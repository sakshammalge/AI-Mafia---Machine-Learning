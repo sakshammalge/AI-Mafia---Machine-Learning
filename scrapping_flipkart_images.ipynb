{
 "cells": [
  {
   "cell_type": "code",
   "execution_count": 31,
   "id": "2d3dcf5e",
   "metadata": {},
   "outputs": [],
   "source": [
    "from bs4 import BeautifulSoup"
   ]
  },
  {
   "cell_type": "code",
   "execution_count": 32,
   "id": "72415ed8",
   "metadata": {},
   "outputs": [],
   "source": [
    "import requests"
   ]
  },
  {
   "cell_type": "code",
   "execution_count": 33,
   "id": "b07d96ec",
   "metadata": {},
   "outputs": [],
   "source": [
    "import pandas as pd"
   ]
  },
  {
   "cell_type": "code",
   "execution_count": 34,
   "id": "d8aa8c5a",
   "metadata": {},
   "outputs": [],
   "source": [
    "from pandas import Series, DataFrame"
   ]
  },
  {
   "cell_type": "code",
   "execution_count": 35,
   "id": "0de594b6",
   "metadata": {},
   "outputs": [],
   "source": [
    "url = \"https://www.flipkart.com/audio-video/headphones/~cs-53mrbtcuf5/pr?sid=0pm%2Cfcn&p%5B%5D=facets.connectivity%255B%255D%3DWired&p%5B%5D=facets.fulfilled_by%255B%255D%3DFlipkart%2BAssured&hpid=ZzXxAI2leUyHE3O2JNmOOqp7_Hsxr70nj65vMAAFKlc=&fm=neon%2Fmerchandising&iid=M_63a93e3e-b97b-4999-b5ad-893fad8e6fb1_1.5XUT82V2DK76&ppt=browse&ppn=browse&ssid=veg476gnn40000001624279204561&otracker=dynamic_omu_infinite_Headphones%2B%2526%2BSpeakers_1_1.dealCard.OMU_INFINITE_5XUT82V2DK76&cid=5XUT82V2DK76\""
   ]
  },
  {
   "cell_type": "code",
   "execution_count": 36,
   "id": "4682dace",
   "metadata": {},
   "outputs": [],
   "source": [
    "result = requests.get(url)\n",
    "soup = BeautifulSoup(result.content, 'lxml')"
   ]
  },
  {
   "cell_type": "code",
   "execution_count": 37,
   "id": "0fc27aea",
   "metadata": {},
   "outputs": [],
   "source": [
    "content = soup.find('div',attrs={'class':'_4ddWXP'} )"
   ]
  },
  {
   "cell_type": "code",
   "execution_count": 38,
   "id": "994cedaa",
   "metadata": {},
   "outputs": [
    {
     "name": "stdout",
     "output_type": "stream",
     "text": [
      "JBL C150SI Wired HeadsetBlack, In the Ear4.2(3,01,219)₹699₹1,399₹700 offBank OfferAdd to Compare\n"
     ]
    }
   ],
   "source": [
    "print(content.text)"
   ]
  },
  {
   "cell_type": "code",
   "execution_count": 42,
   "id": "16700bb7",
   "metadata": {},
   "outputs": [
    {
     "name": "stdout",
     "output_type": "stream",
     "text": [
      "https://rukminim1.flixcart.com/image/612/612/juwzf680/headphone-refurbished/7/h/k/z-c100si-jbl-original-imaffxja5vmgwudz.jpeg?q=70\n",
      "\n",
      "https://rukminim1.flixcart.com/image/612/612/k20r8nk0/headphone/7/w/c/realme-buds-2-original-imafhgrckbygsyrk.jpeg?q=70\n",
      "\n",
      "https://rukminim1.flixcart.com/image/612/612/kj0bp8w0-0/headphone/l/j/0/bassheads-103-black-boat-original-imafyz3wqtqfzzwd.jpeg?q=70\n",
      "\n",
      "https://rukminim1.flixcart.com/image/612/612/kf75fgw0-0/headphone/o/s/t/bassheads-100-boat-original-imafvpghhzjq7dyz.jpeg?q=70\n",
      "\n",
      "https://rukminim1.flixcart.com/image/612/612/k0vbgy80pkrrdj/headphone/6/b/9/boat-bassheads-900-super-extra-bass-original-imafg96ydu4getz7.jpeg?q=70\n",
      "\n",
      "https://rukminim1.flixcart.com/image/612/612/k0vbgy80pkrrdj/headphone/w/y/z/boat-bassheads-242-original-imafhbjuwkzr9tzg.jpeg?q=70\n",
      "\n",
      "https://rukminim1.flixcart.com/image/612/612/kelptow0-0/headphone/f/f/b/ydjc02wm-redmi-original-imafv8w5nkjx29hd.jpeg?q=70\n",
      "\n",
      "https://rukminim1.flixcart.com/image/612/612/k6nxrbk0/headphone/h/h/z/boat-bassheads-172-original-imafp2f3jqd3u3hz.jpeg?q=70\n",
      "\n",
      "https://rukminim1.flixcart.com/image/612/612/k2jbyq80/headphone/p/x/z/boult-audio-bassbuds-storm-original-imafgyekcds7rgty.jpeg?q=70\n",
      "\n",
      "https://rukminim1.flixcart.com/image/612/612/k7c88sw0/headphone/s/g/6/xiaomi-dual-driver-original-imafpht84fa7fxdj.jpeg?q=70\n",
      "\n",
      "https://rukminim1.flixcart.com/image/612/612/jh6l2fk0/headphone/v/t/7/sony-mdr-zx310apbce-original-imaf59ebhygmdhgv.jpeg?q=70\n",
      "\n",
      "https://rukminim1.flixcart.com/image/612/612/k2xmd8w0/headphone/w/z/k/boult-audio-bassbuds-oak-pure-wood-original-imafk89mxg8qy6fq.jpeg?q=70\n",
      "\n",
      "https://rukminim1.flixcart.com/image/612/612/kfzq8i80-0/headphone/0/k/q/bass-buds-stormx-boult-audio-original-imafwc5dsz4uhsub.jpeg?q=70\n",
      "\n",
      "https://rukminim1.flixcart.com/image/612/612/k34rki80/headphone/a/y/b/boat-bassheads-220-super-extra-bass-original-imafhdvajhxazeva.jpeg?q=70\n",
      "\n",
      "https://rukminim1.flixcart.com/image/612/612/keuagsw0-0/headphone/4/2/l/loupe-black-wired-headphones-with-mic-boult-audio-original-imafvfhqnpau9fbe.jpeg?q=70\n",
      "\n",
      "https://rukminim1.flixcart.com/image/612/612/k6nxrbk0/headphone/h/e/y/boat-bassheads-182-original-imafp2f4dymhxusb.jpeg?q=70\n",
      "\n",
      "https://rukminim1.flixcart.com/image/612/612/kjym9ow0/headphone/headphone/v/s/e/mdr-ex14ap-sony-original-imafzetchwdhn9jx.jpeg?q=70\n",
      "\n",
      "https://rukminim1.flixcart.com/image/612/612/jh0vb0w0/headphone/t/7/6/sony-mdr-zx110-a-original-imaf553gdwgxbetq.jpeg?q=70\n",
      "\n",
      "https://rukminim1.flixcart.com/image/612/612/k7c88sw0/headphone/m/n/z/xiaomi-dual-driver-original-imafpht8q3tmqzzg.jpeg?q=70\n",
      "\n",
      "https://rukminim1.flixcart.com/image/612/612/jt1tq4w0/headphone/p/t/x/boat-bassheads-100-mi-edition-original-imafehephznzwy59.jpeg?q=70\n",
      "\n",
      "https://rukminim1.flixcart.com/image/612/612/kf75fgw0-0/headphone/o/s/t/bassheads-100-boat-original-imafvpghhzjq7dyz.jpeg?q=70\n",
      "\n",
      "https://rukminim1.flixcart.com/image/612/612/k0vbgy80pkrrdj/headphone/g/t/6/samsung-eo-hs130dpegin-original-imaf97wvyy4czzya.jpeg?q=70\n",
      "\n",
      "https://rukminim1.flixcart.com/image/612/612/keykscw0-0/headphone/i/8/o/bassbud-q2-wired-boult-audio-original-imafvgmguqkucygh.jpeg?q=70\n",
      "\n",
      "https://rukminim1.flixcart.com/image/612/612/k7w8eq80/headphone/8/b/9/ptron-boom-pro-dual-driver-original-imafqygsqh8fkn3k.jpeg?q=70\n",
      "\n",
      "https://rukminim1.flixcart.com/image/612/612/kkoc70w0/headphone/h/w/n/boom-one-ptron-original-imafzyvnwhppkcfa.jpeg?q=70\n",
      "\n",
      "https://rukminim1.flixcart.com/image/612/612/kfzq8i80-0/headphone/8/5/b/bass-buds-stormx-boult-audio-original-imafwc5df2nyph3c.jpeg?q=70\n",
      "\n",
      "https://rukminim1.flixcart.com/image/612/612/k4irzbk0/headphone/y/t/g/infinity-zip-100-original-imafn8zkjkgvkuw2.jpeg?q=70\n",
      "\n",
      "https://rukminim1.flixcart.com/image/612/612/klscivk0/headphone/x/o/f/squad-nu-republic-original-imagytx3bzyg2gcq.jpeg?q=70\n",
      "\n",
      "https://rukminim1.flixcart.com/image/612/612/jdj4k280/headphone/h/3/p/sony-mdr-xb55ap-original-imaf2exaczs9hxr4.jpeg?q=70\n",
      "\n",
      "https://rukminim1.flixcart.com/image/612/612/k7531jk0/headphone/x/y/y/infinity-zip-20-original-imafpfwpyzcytgzc.jpeg?q=70\n",
      "\n",
      "https://rukminim1.flixcart.com/image/612/612/j4d1ua80/headset/j/h/t/sony-mdr-ex255ap-original-imaevah7kzzgp3hv.jpeg?q=70\n",
      "\n",
      "https://rukminim1.flixcart.com/image/612/612/j4n1x8w0/headset/h/t/m/sony-mdr-ex155ap-original-imaevah7ztw7zrap.jpeg?q=70\n",
      "\n",
      "https://rukminim1.flixcart.com/image/612/612/k7w8eq80/headphone/q/h/k/ptron-boom-duo-dual-driver-original-imafqyhfefag57cg.jpeg?q=70\n",
      "\n",
      "https://rukminim1.flixcart.com/image/612/612/k6nxrbk0/headphone/9/t/y/sennheiser-cx-80s-original-imafp2h9uhnngauh.jpeg?q=70\n",
      "\n",
      "https://rukminim1.flixcart.com/image/612/612/jh0vb0w0/headphone/open-dynamic-headset/z/g/v/sony-mdr-as210-original-imaezxfg63xavmmg.jpeg?q=70\n",
      "\n",
      "https://rukminim1.flixcart.com/image/612/612/keq058w0-0/headphone/d/q/e/bassbuds-x2-boult-audio-original-imafvcywuhqm2wuy.jpeg?q=70\n",
      "\n",
      "https://rukminim1.flixcart.com/image/612/612/k7531jk0/headphone/d/n/h/infinity-zip-20-original-imafpfwpfuwbegbz.jpeg?q=70\n",
      "\n",
      "https://rukminim1.flixcart.com/image/612/612/k0lbdzk0pkrrdj/headphone/x/e/u/pebble-zest-bassbuds-heavy-bass-ear-pod-design-wired-earphones-original-imafkfafhyhpnpkg.jpeg?q=70\n",
      "\n",
      "https://rukminim1.flixcart.com/image/612/612/k7531jk0/headphone/q/w/g/infinity-zip-20-original-imafpfwp48hkkb7d.jpeg?q=70\n",
      "\n",
      "https://rukminim1.flixcart.com/image/612/612/k4irzbk0/headphone/p/v/4/ant-audio-wave-506-original-imafnez2xvmjb4de.jpeg?q=70\n",
      "\n"
     ]
    }
   ],
   "source": [
    "for a in soup.findAll(\"a\", href = True,attrs ={\"class\":\"_2rpwqI\"}):\n",
    "    img = a.find('img', attrs={\"class\":\"_396cs4 _3exPp9\"})\n",
    "    print(img.get('src'),end=\"\\n\\n\")"
   ]
  },
  {
   "cell_type": "code",
   "execution_count": null,
   "id": "5117c9af",
   "metadata": {},
   "outputs": [],
   "source": []
  }
 ],
 "metadata": {
  "kernelspec": {
   "display_name": "Python 3",
   "language": "python",
   "name": "python3"
  },
  "language_info": {
   "codemirror_mode": {
    "name": "ipython",
    "version": 3
   },
   "file_extension": ".py",
   "mimetype": "text/x-python",
   "name": "python",
   "nbconvert_exporter": "python",
   "pygments_lexer": "ipython3",
   "version": "3.8.8"
  }
 },
 "nbformat": 4,
 "nbformat_minor": 5
}
