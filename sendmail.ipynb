{
 "cells": [
  {
   "cell_type": "code",
   "execution_count": 7,
   "id": "3dd91e19",
   "metadata": {},
   "outputs": [],
   "source": [
    "import smtplib\n",
    "import getpass\n",
    "from email.mime.text import MIMEText\n"
   ]
  },
  {
   "cell_type": "code",
   "execution_count": 8,
   "id": "987a852b",
   "metadata": {},
   "outputs": [],
   "source": [
    "def send_email():\n",
    "    senders_address = \"saksham.malge@gmail.com\"\n",
    "    recipient = [\"saksham.malge@gmail.com\", \"2019kucp1121@iiitkota.ac.in\"]\n",
    "    password = getpass.getpass()\n",
    "    subject = \"sending email using python\"\n",
    "    message = '''Hello.\n",
    "    I am learning python.\n",
    "\n",
    "    Thank You!\n",
    "    Saksham Nishant Malge\n",
    "    '''\n",
    "    \n",
    "    #server initialisation \n",
    "    server = smtplib.SMTP('smtp.gmail.com',587)\n",
    "    server.starttls()\n",
    "    server.login(senders_address, password)\n",
    "    \n",
    "    #draft message body\n",
    "    message = MIMEText(message)\n",
    "    message[\"Subject\"] = subject\n",
    "    message[\"From\"] = senders_address\n",
    "    message[\"To\"] = \",\".join(recipient)\n",
    "    \n",
    "    server.sendmail(senders_address, recipient, message.as_string())"
   ]
  },
  {
   "cell_type": "code",
   "execution_count": null,
   "id": "4055563f",
   "metadata": {},
   "outputs": [],
   "source": []
  },
  {
   "cell_type": "code",
   "execution_count": 9,
   "id": "cf6a78c2",
   "metadata": {},
   "outputs": [
    {
     "name": "stdout",
     "output_type": "stream",
     "text": [
      "········\n"
     ]
    }
   ],
   "source": [
    "\n",
    "\n",
    "send_email()\n",
    "    \n",
    "    \n",
    "    \n",
    "\n",
    "\n"
   ]
  },
  {
   "cell_type": "code",
   "execution_count": null,
   "id": "3372240e",
   "metadata": {},
   "outputs": [],
   "source": []
  }
 ],
 "metadata": {
  "kernelspec": {
   "display_name": "Python 3",
   "language": "python",
   "name": "python3"
  },
  "language_info": {
   "codemirror_mode": {
    "name": "ipython",
    "version": 3
   },
   "file_extension": ".py",
   "mimetype": "text/x-python",
   "name": "python",
   "nbconvert_exporter": "python",
   "pygments_lexer": "ipython3",
   "version": "3.8.8"
  }
 },
 "nbformat": 4,
 "nbformat_minor": 5
}
