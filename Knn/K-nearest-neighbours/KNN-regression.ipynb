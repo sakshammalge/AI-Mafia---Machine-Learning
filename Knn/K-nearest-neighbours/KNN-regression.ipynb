{
 "cells": [
  {
   "cell_type": "code",
   "execution_count": 42,
   "id": "40dfd42e",
   "metadata": {},
   "outputs": [],
   "source": [
    "import pandas as pd\n",
    "import numpy as np\n",
    "import matplotlib.pyplot as plt\n",
    "plt.style.use(\"seaborn\")"
   ]
  },
  {
   "cell_type": "code",
   "execution_count": 43,
   "id": "60342632",
   "metadata": {},
   "outputs": [],
   "source": [
    "x = pd.read_csv(\"../data/LinearX.csv\")\n",
    "x = x.values.reshape((-1,))\n",
    "y = pd.read_csv(\"../data/LinearY.csv\")\n",
    "y = y.values.reshape((-1,))"
   ]
  },
  {
   "cell_type": "code",
   "execution_count": 44,
   "id": "8b430d5e",
   "metadata": {},
   "outputs": [
    {
     "data": {
      "image/png": "[encoded data removed]",
      "text/plain": [
       "<Figure size 576x396 with 1 Axes>"
      ]
     },
     "metadata": {},
     "output_type": "display_data"
    }
   ],
   "source": [
    "plt.scatter(x,y)\n",
    "plt.show()"
   ]
  },
  {
   "cell_type": "code",
   "execution_count": 45,
   "id": "cf713a61",
   "metadata": {},
   "outputs": [],
   "source": [
    "def distance(x1, x2):\n",
    "    return np.sqrt(sum((x1-x2)**2))"
   ]
  },
  {
   "cell_type": "code",
   "execution_count": 46,
   "id": "4be15a0c",
   "metadata": {},
   "outputs": [],
   "source": [
    "def knn(x, y, pt, k=5):\n",
    "    m = x.shape[0]\n",
    "    vals = []\n",
    "    for i in range(m):\n",
    "        d = distance(x[i],pt)\n",
    "        vals.append((d, y[i]))\n",
    "        \n",
    "    val = sorted(vals)\n",
    "    val = val[:k]\n",
    "    val = np.array(val)\n",
    "    \n",
    "    out  = val[:,-1]\n",
    "    \n",
    "    return np.mean(out)"
   ]
  },
  {
   "cell_type": "code",
   "execution_count": 48,
   "id": "0603ffe8",
   "metadata": {},
   "outputs": [
    {
     "name": "stdout",
     "output_type": "stream",
     "text": [
      "1.00082\n"
     ]
    }
   ],
   "source": [
    "X = knn(x, y, [14])\n",
    "print(X)"
   ]
  },
  {
   "cell_type": "code",
   "execution_count": null,
   "id": "0e832ee5",
   "metadata": {},
   "outputs": [],
   "source": []
  },
  {
   "cell_type": "code",
   "execution_count": null,
   "id": "52e59dfb",
   "metadata": {},
   "outputs": [],
   "source": []
  }
 ],
 "metadata": {
  "kernelspec": {
   "display_name": "Python 3",
   "language": "python",
   "name": "python3"
  },
  "language_info": {
   "codemirror_mode": {
    "name": "ipython",
    "version": 3
   },
   "file_extension": ".py",
   "mimetype": "text/x-python",
   "name": "python",
   "nbconvert_exporter": "python",
   "pygments_lexer": "ipython3",
   "version": "3.8.8"
  }
 },
 "nbformat": 4,
 "nbformat_minor": 5
}
